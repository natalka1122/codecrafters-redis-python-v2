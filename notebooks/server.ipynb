{
 "cells": [
  {
   "cell_type": "code",
   "execution_count": null,
   "id": "e83251ea",
   "metadata": {},
   "outputs": [],
   "source": [
    "import socket\n",
    "\n",
    "PORT = 3333\n",
    "HOST = \"127.0.0.1\"\n",
    "PING = b\"*1\\r\\n$4\\r\\nPING\\r\\n\"\n",
    "PONG = b\"+PONG\\r\\n\""
   ]
  },
  {
   "cell_type": "code",
   "execution_count": null,
   "id": "3be2cba8",
   "metadata": {},
   "outputs": [],
   "source": [
    "# 1. Create socket\n",
    "s = socket.socket(socket.AF_INET, socket.SOCK_STREAM)"
   ]
  },
  {
   "cell_type": "code",
   "execution_count": null,
   "id": "f6f615f7",
   "metadata": {},
   "outputs": [],
   "source": [
    "# 2️. Bind to host/port\n",
    "s.bind((HOST, PORT))\n",
    "print(f\"Socket bound to {HOST}:{PORT}\")"
   ]
  },
  {
   "cell_type": "code",
   "execution_count": null,
   "id": "c3d12b69",
   "metadata": {},
   "outputs": [],
   "source": [
    "# 3. Start listening for incoming connections\n",
    "s.listen()\n",
    "print(\"Server is listening...\")"
   ]
  },
  {
   "cell_type": "code",
   "execution_count": null,
   "id": "94e253d0",
   "metadata": {},
   "outputs": [],
   "source": [
    "# 4️. Wait (block) until a client connects\n",
    "conn, addr = s.accept()\n",
    "print(f\"Connection established with {addr}\")"
   ]
  },
  {
   "cell_type": "code",
   "execution_count": null,
   "id": "60a650ce",
   "metadata": {},
   "outputs": [],
   "source": [
    "# 5. Receive data\n",
    "bufsize = 1024\n",
    "data = conn.recv(bufsize)\n",
    "print(f\"Server received: '{data}'\")"
   ]
  },
  {
   "cell_type": "code",
   "execution_count": null,
   "id": "176c8409",
   "metadata": {},
   "outputs": [],
   "source": [
    "# 6. Send data\n",
    "data = PING\n",
    "conn.sendall(b\"Echo: \" + data)"
   ]
  },
  {
   "cell_type": "code",
   "execution_count": null,
   "id": "9619ad84",
   "metadata": {},
   "outputs": [],
   "source": [
    "# 7. Close the connection with this client\n",
    "conn.close()\n",
    "print(\"Closed client connection\")"
   ]
  },
  {
   "cell_type": "code",
   "execution_count": null,
   "id": "83b7b474",
   "metadata": {},
   "outputs": [],
   "source": [
    "# 8.\n",
    "s.close()\n",
    "print(\"Closed server socket\")"
   ]
  }
 ],
 "metadata": {
  "kernelspec": {
   "display_name": "Python 3",
   "language": "python",
   "name": "python3"
  },
  "language_info": {
   "codemirror_mode": {
    "name": "ipython",
    "version": 3
   },
   "file_extension": ".py",
   "mimetype": "text/x-python",
   "name": "python",
   "nbconvert_exporter": "python",
   "pygments_lexer": "ipython3",
   "version": "3.12.3"
  }
 },
 "nbformat": 4,
 "nbformat_minor": 5
}
