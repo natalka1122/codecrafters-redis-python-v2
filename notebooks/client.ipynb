{
 "cells": [
  {
   "cell_type": "code",
   "execution_count": 1,
   "id": "e83251ea",
   "metadata": {},
   "outputs": [],
   "source": [
    "import socket\n",
    "\n",
    "PORT = 3333\n",
    "HOST = \"127.0.0.1\"\n",
    "PING = b\"*1\\r\\n$4\\r\\nPING\\r\\n\"\n",
    "PONG = b\"+PONG\\r\\n\""
   ]
  },
  {
   "cell_type": "code",
   "execution_count": 2,
   "id": "3be2cba8",
   "metadata": {},
   "outputs": [],
   "source": [
    "# 1. Create socket\n",
    "s = socket.socket(socket.AF_INET, socket.SOCK_STREAM)"
   ]
  },
  {
   "cell_type": "code",
   "execution_count": 3,
   "id": "f6f615f7",
   "metadata": {},
   "outputs": [
    {
     "name": "stdout",
     "output_type": "stream",
     "text": [
      "Connected to 127.0.0.1:3333 as 127.0.0.1:59924\n"
     ]
    }
   ],
   "source": [
    "# 2️. Connect to host/port\n",
    "s.connect((HOST, PORT))\n",
    "local_ip, local_port = s.getsockname()\n",
    "print(f\"Connected to {HOST}:{PORT} as {local_ip}:{local_port}\")"
   ]
  },
  {
   "cell_type": "code",
   "execution_count": 26,
   "id": "c3d12b69",
   "metadata": {},
   "outputs": [
    {
     "ename": "BrokenPipeError",
     "evalue": "[Errno 32] Broken pipe",
     "output_type": "error",
     "traceback": [
      "\u001b[31m---------------------------------------------------------------------------\u001b[39m",
      "\u001b[31mBrokenPipeError\u001b[39m                           Traceback (most recent call last)",
      "\u001b[36mCell\u001b[39m\u001b[36m \u001b[39m\u001b[32mIn[26]\u001b[39m\u001b[32m, line 3\u001b[39m\n\u001b[32m      1\u001b[39m \u001b[38;5;66;03m# 3. Send data\u001b[39;00m\n\u001b[32m      2\u001b[39m data = PING\n\u001b[32m----> \u001b[39m\u001b[32m3\u001b[39m \u001b[43ms\u001b[49m\u001b[43m.\u001b[49m\u001b[43msendall\u001b[49m\u001b[43m(\u001b[49m\u001b[43mdata\u001b[49m\u001b[43m)\u001b[49m\n\u001b[32m      4\u001b[39m \u001b[38;5;28mprint\u001b[39m(\u001b[33mf\u001b[39m\u001b[33m\"\u001b[39m\u001b[33mI have sent \u001b[39m\u001b[38;5;132;01m{\u001b[39;00mdata\u001b[38;5;132;01m!r}\u001b[39;00m\u001b[33m\"\u001b[39m)\n",
      "\u001b[31mBrokenPipeError\u001b[39m: [Errno 32] Broken pipe"
     ]
    }
   ],
   "source": [
    "# 3. Send data\n",
    "data = PING\n",
    "s.sendall(data)\n",
    "print(f\"I have sent {data!r}\")"
   ]
  },
  {
   "cell_type": "code",
   "execution_count": null,
   "id": "68993c19",
   "metadata": {},
   "outputs": [],
   "source": []
  },
  {
   "cell_type": "code",
   "execution_count": null,
   "id": "7a07ba3b",
   "metadata": {},
   "outputs": [
    {
     "name": "stdout",
     "output_type": "stream",
     "text": [
      "I have received b''\n"
     ]
    }
   ],
   "source": [
    "# 4. Receive data\n",
    "bufsize = 1024\n",
    "print(f\"I have received {s.recv(bufsize)!r}\")"
   ]
  },
  {
   "cell_type": "code",
   "execution_count": 30,
   "id": "44ae45af",
   "metadata": {},
   "outputs": [
    {
     "name": "stdout",
     "output_type": "stream",
     "text": [
      "Connection closed\n"
     ]
    }
   ],
   "source": [
    "s.close()\n",
    "print(\"Connection closed\")"
   ]
  }
 ],
 "metadata": {
  "kernelspec": {
   "display_name": "Python 3",
   "language": "python",
   "name": "python3"
  },
  "language_info": {
   "codemirror_mode": {
    "name": "ipython",
    "version": 3
   },
   "file_extension": ".py",
   "mimetype": "text/x-python",
   "name": "python",
   "nbconvert_exporter": "python",
   "pygments_lexer": "ipython3",
   "version": "3.12.3"
  }
 },
 "nbformat": 4,
 "nbformat_minor": 5
}
